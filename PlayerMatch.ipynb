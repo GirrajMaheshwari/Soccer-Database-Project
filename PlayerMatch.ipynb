{
 "cells": [
  {
   "cell_type": "code",
   "execution_count": 13,
   "metadata": {
    "collapsed": true
   },
   "outputs": [],
   "source": [
    "from bs4 import BeautifulSoup\n",
    "import requests\n",
    "import pandas as pd\n",
    "import re\n",
    "import os\n",
    "os.chdir('C://Users//acer1//Desktop//Course content//CIS 8040//Project//PlayerMatchData')"
   ]
  },
  {
   "cell_type": "code",
   "execution_count": 2,
   "metadata": {},
   "outputs": [
    {
     "name": "stderr",
     "output_type": "stream",
     "text": [
      "C:\\Users\\acer1\\Anaconda2\\lib\\site-packages\\bs4\\__init__.py:181: UserWarning: No parser was explicitly specified, so I'm using the best available HTML parser for this system (\"lxml\"). This usually isn't a problem, but if you run this code on another system, or in a different virtual environment, it may use a different parser and behave differently.\n",
      "\n",
      "The code that caused this warning is on line 174 of the file C:\\Users\\acer1\\Anaconda2\\lib\\runpy.py. To get rid of this warning, change code that looks like this:\n",
      "\n",
      " BeautifulSoup(YOUR_MARKUP})\n",
      "\n",
      "to this:\n",
      "\n",
      " BeautifulSoup(YOUR_MARKUP, \"lxml\")\n",
      "\n",
      "  markup_type=markup_type))\n"
     ]
    }
   ],
   "source": [
    "r  = requests.get(\"http://www.espnfc.us/match?gameId=450998\")\n",
    "data = r.text\n",
    "soup = BeautifulSoup(data)"
   ]
  },
  {
   "cell_type": "code",
   "execution_count": null,
   "metadata": {
    "collapsed": true
   },
   "outputs": [],
   "source": [
    "#Name of players\n",
    "'''\n",
    "letters = soup.find_all('span', class_ = \"name\")\n",
    "\n",
    "for i in letters:\n",
    "    if len(i.find_all('a')) > 0:\n",
    "        if len(i.getText()) > 4:\n",
    "            print i.getText().strip().split()[0] + \" \" + i.getText().strip().split()[1]\n",
    "            \n",
    "\n",
    "            \n",
    "            \n",
    "#'TotalShots', 'ShotsOnTarget', 'FoulsCommited', 'FoulsSuffered'\n",
    "n = 0\n",
    "df = pd.DataFrame(columns = ['TotalShots', 'ShotsOnTarget', 'FoulsCommited', 'FoulsSuffered'])\n",
    "StatsSaves = soup.find_all(class_ = \"chartValue\")\n",
    "for i in range(0, len(StatsSaves)-3, 4 ):\n",
    "    TotalShots = StatsSaves[i].getText()  \n",
    "    ShotsOnTarget = StatsSaves[i+1].getText()\n",
    "    FoulsCommited = StatsSaves[i+2].getText()\n",
    "    FoulsSuffered = StatsSaves[i+3].getText()\n",
    "    df.loc[n]  = [TotalShots, ShotsOnTarget, FoulsCommited, FoulsSuffered ]\n",
    "    n = n + 1\n",
    "df\n",
    "\n",
    "#GoalSaves', 'GoalAssists', 'GoalYellowCard', 'GoalRedCard', 'GoalTotalGoals'\n",
    "GoalData = soup.find_all(class_ = \"value\")\n",
    "n = 0\n",
    "df = pd.DataFrame(columns = ['GoalSaves', 'GoalAssists', 'GoalYellowCard', 'GoalRedCard', 'GoalTotalGoals'])\n",
    "\n",
    "for i in range(0, len(GoalData)-4, 5):\n",
    "    GoalSaves = GoalData[i].getText()\n",
    "    GoalAssists = GoalData[i+1].getText()\n",
    "    GoalYellowCard = GoalData[i+2].getText()\n",
    "    GoalRedCard = GoalData[i+3].getText()\n",
    "    GoalTotalGoals = GoalData[i+4].getText()\n",
    "    df.loc[n] = [GoalSaves, GoalAssists, GoalYellowCard, GoalRedCard, GoalTotalGoals]\n",
    "    n = n+ 1\n",
    "    \n",
    "#PlayerName = soup.find_all(class_ = 'accordion-item')[5].find_all('a')[0].getText()\n",
    "if soup.find_all(class_ = 'accordion-item')[5].find_all('span', class_ = 'value')[0]['data-stat'] == 'totalGoals':\n",
    "    GoalTotalGoals = soup.find_all(class_ = 'accordion-item')[5].find_all('span', class_ = 'value')[0].getText()\n",
    "    GoalSaves = 0\n",
    "else:\n",
    "    GoalTotalGoals = 0\n",
    "    GoalSaves = soup.find_all(class_ = 'accordion-item')[5].find_all('span', class_ = 'value')[0].getText()\n",
    "    \n",
    "    "
   ]
  },
  {
   "cell_type": "code",
   "execution_count": 26,
   "metadata": {},
   "outputs": [
    {
     "ename": "IndexError",
     "evalue": "list index out of range",
     "output_type": "error",
     "traceback": [
      "\u001b[1;31m\u001b[0m",
      "\u001b[1;31mIndexError\u001b[0mTraceback (most recent call last)",
      "\u001b[1;32m<ipython-input-26-d14c4a0508bf>\u001b[0m in \u001b[0;36m<module>\u001b[1;34m()\u001b[0m\n\u001b[0;32m      6\u001b[0m     \u001b[0msoup\u001b[0m \u001b[1;33m=\u001b[0m \u001b[0mBeautifulSoup\u001b[0m\u001b[1;33m(\u001b[0m\u001b[0mdata\u001b[0m\u001b[1;33m)\u001b[0m\u001b[1;33m\u001b[0m\u001b[0m\n\u001b[0;32m      7\u001b[0m \u001b[1;33m\u001b[0m\u001b[0m\n\u001b[1;32m----> 8\u001b[1;33m     \u001b[1;32mif\u001b[0m \u001b[1;34m'2016/2017 English Premier League'\u001b[0m \u001b[1;32min\u001b[0m \u001b[0msoup\u001b[0m\u001b[1;33m.\u001b[0m\u001b[0mfind_all\u001b[0m\u001b[1;33m(\u001b[0m\u001b[0mclass_\u001b[0m \u001b[1;33m=\u001b[0m\u001b[1;34m\"post details-header details-footer\"\u001b[0m\u001b[1;33m)\u001b[0m\u001b[1;33m[\u001b[0m\u001b[1;36m0\u001b[0m\u001b[1;33m]\u001b[0m\u001b[1;33m.\u001b[0m\u001b[0mfind_all\u001b[0m\u001b[1;33m(\u001b[0m\u001b[0mclass_\u001b[0m \u001b[1;33m=\u001b[0m \u001b[1;34m'game-details header'\u001b[0m\u001b[1;33m)\u001b[0m\u001b[1;33m[\u001b[0m\u001b[1;36m0\u001b[0m\u001b[1;33m]\u001b[0m\u001b[1;33m.\u001b[0m\u001b[0mgetText\u001b[0m\u001b[1;33m(\u001b[0m\u001b[1;33m)\u001b[0m\u001b[1;33m:\u001b[0m\u001b[1;33m\u001b[0m\u001b[0m\n\u001b[0m\u001b[0;32m      9\u001b[0m         \u001b[0mn\u001b[0m \u001b[1;33m=\u001b[0m\u001b[1;36m0\u001b[0m\u001b[1;33m\u001b[0m\u001b[0m\n\u001b[0;32m     10\u001b[0m         \u001b[0mdf\u001b[0m \u001b[1;33m=\u001b[0m \u001b[0mpd\u001b[0m\u001b[1;33m.\u001b[0m\u001b[0mDataFrame\u001b[0m\u001b[1;33m(\u001b[0m\u001b[0mcolumns\u001b[0m \u001b[1;33m=\u001b[0m \u001b[1;33m[\u001b[0m\u001b[1;34m'PlayerName'\u001b[0m\u001b[1;33m,\u001b[0m \u001b[1;34m'Team'\u001b[0m\u001b[1;33m,\u001b[0m \u001b[1;34m\"TeamAgainst\"\u001b[0m\u001b[1;33m,\u001b[0m \u001b[1;34m'GoalSaves'\u001b[0m\u001b[1;33m,\u001b[0m \u001b[1;34m'GoalTotalGoals'\u001b[0m\u001b[1;33m,\u001b[0m \u001b[1;34m'TotalShots'\u001b[0m\u001b[1;33m,\u001b[0m \u001b[1;34m'ShotsOnTarget'\u001b[0m\u001b[1;33m,\u001b[0m \u001b[1;34m'FoulsCommited'\u001b[0m\u001b[1;33m,\u001b[0m \u001b[1;34m'FoulsSuffered'\u001b[0m\u001b[1;33m,\u001b[0m \u001b[1;34m'GoalAssist'\u001b[0m\u001b[1;33m,\u001b[0m \u001b[1;34m'YellowCard'\u001b[0m\u001b[1;33m,\u001b[0m \u001b[1;34m'RedCard'\u001b[0m\u001b[1;33m]\u001b[0m\u001b[1;33m)\u001b[0m\u001b[1;33m\u001b[0m\u001b[0m\n",
      "\u001b[1;31mIndexError\u001b[0m: list index out of range"
     ]
    }
   ],
   "source": [
    "Match_Number =0 \n",
    "GameID = [45099811111]\n",
    "for ID in GameID:\n",
    "    r  = requests.get(\"http://www.espnfc.us/match?gameId=%s\" %ID)\n",
    "    data = r.text\n",
    "    soup = BeautifulSoup(data)\n",
    "    \n",
    "    if '2016/2017 English Premier League' in soup.find_all(class_ =\"post details-header details-footer\")[0].find_all(class_ = 'game-details header')[0].getText():    \n",
    "        n =0\n",
    "        df = pd.DataFrame(columns = ['PlayerName', 'Team', \"TeamAgainst\", 'GoalSaves', 'GoalTotalGoals', 'TotalShots', 'ShotsOnTarget', 'FoulsCommited', 'FoulsSuffered', 'GoalAssist', 'YellowCard', 'RedCard'])\n",
    "        for j in range(0, 2):\n",
    "            Team = soup.find_all(class_=\"content-tab\")[j].find_all('', class_ = 'content')[0].find_all('caption')[0].getText()\n",
    "            TeamAgainst = soup.find_all(class_=\"content-tab\")[j-1].find_all('', class_ = 'content')[0].find_all('caption')[0].getText()\n",
    "    \n",
    "            t = soup.find_all(class_=\"content-tab\")[j].find_all(class_ = 'accordion-item')\n",
    "            for i in range(0, len(t)):\n",
    "                if soup.find_all(class_=\"content-tab\")[j].find_all(class_ = 'accordion-item')[i].find_all('span', class_ = 'value')[0]['data-stat'] == 'totalGoals':\n",
    "                    GoalTotalGoals = soup.find_all(class_=\"content-tab\")[j].find_all(class_ = 'accordion-item')[i].find_all('span', class_ = 'value')[0].getText()\n",
    "                    GoalSaves = 0\n",
    "                else:\n",
    "                    GoalTotalGoals = 0\n",
    "                    GoalSaves = soup.find_all(class_=\"content-tab\")[j].find_all(class_ = 'accordion-item')[i].find_all('span', class_ = 'value')[0].getText()\n",
    "   \n",
    "                PlayerName = soup.find_all(class_=\"content-tab\")[j].find_all(class_ = 'accordion-item')[i].find_all('a')[0].getText()\n",
    "                TotalShots = soup.find_all(class_=\"content-tab\")[j].find_all(class_ = 'accordion-item')[i].find_all(class_ = \"shots\")[0].find_all(class_ = 'chartValue')[0].getText()\n",
    "                ShotsOnTarget = soup.find_all(class_=\"content-tab\")[j].find_all(class_ = 'accordion-item')[i].find_all(class_ = \"shots\")[0].find_all(class_ = 'chartValue')[1].getText()\n",
    "                FoulsCommited = soup.find_all(class_=\"content-tab\")[j].find_all(class_ = 'accordion-item')[i].find_all(class_ = \"fouls\")[0].find_all(class_ = 'chartValue')[0].getText()\n",
    "                FoulsSuffered = soup.find_all(class_=\"content-tab\")[j].find_all(class_ = 'accordion-item')[i].find_all(class_ = \"fouls\")[0].find_all(class_ = 'chartValue')[1].getText()\n",
    "                GoalAssist = soup.find_all(class_=\"content-tab\")[j].find_all(class_ = 'accordion-item')[i].find_all(class_ = \"stats\")[0].find_all(class_ = 'value')[0].getText()\n",
    "                YellowCard = soup.find_all(class_=\"content-tab\")[j].find_all(class_ = 'accordion-item')[i].find_all(class_ = \"stats\")[0].find_all(class_ = 'value')[-1].getText()\n",
    "                RedCard = soup.find_all(class_=\"content-tab\")[j].find_all(class_ = 'accordion-item')[i].find_all(class_ = \"stats\")[0].find_all(class_ = 'value')[-2].getText()\n",
    "\n",
    "                df.loc[n] = [PlayerName, Team, TeamAgainst, GoalSaves, GoalTotalGoals, TotalShots, ShotsOnTarget, FoulsCommited, FoulsSuffered, GoalAssist, YellowCard, RedCard]\n",
    "                n = n + 1\n",
    "                print j,i\n",
    "        Match_Number = Match_Number +1\n",
    "        print \"Premier League Game ID is  %s and  Match number %s . Match is between %s vs %s\" %(ID, Match_Number, Team, TeamAgainst)\n",
    "        df.to_excel(\"%s.xlsx\" %ID)\n",
    "    else:\n",
    "        print \"Game Not in Premier legue %s\" %ID"
   ]
  },
  {
   "cell_type": "code",
   "execution_count": 28,
   "metadata": {},
   "outputs": [],
   "source": [
    "r  = requests.get(\"http://www.espnfc.us/match?gameId=45099811111\")\n",
    "data = r.text\n",
    "soup = BeautifulSoup(data)"
   ]
  },
  {
   "cell_type": "code",
   "execution_count": null,
   "metadata": {
    "collapsed": true
   },
   "outputs": [],
   "source": []
  }
 ],
 "metadata": {
  "kernelspec": {
   "display_name": "Python 2",
   "language": "python",
   "name": "python2"
  },
  "language_info": {
   "codemirror_mode": {
    "name": "ipython",
    "version": 2
   },
   "file_extension": ".py",
   "mimetype": "text/x-python",
   "name": "python",
   "nbconvert_exporter": "python",
   "pygments_lexer": "ipython2",
   "version": "2.7.13"
  }
 },
 "nbformat": 4,
 "nbformat_minor": 2
}
